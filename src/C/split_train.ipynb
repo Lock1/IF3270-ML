{
 "cells": [
  {
   "cell_type": "code",
   "execution_count": 148,
   "metadata": {},
   "outputs": [],
   "source": [
    "import pandas as pd\n",
    "from neural_net import NeuralNetwork\n",
    "import numpy as np\n",
    "from sklearn.model_selection import train_test_split\n",
    "from sklearn.datasets import load_iris\n",
    "from metrics import confusion_matrix, prediction_stats, accuracy, precision, recall, f1"
   ]
  },
  {
   "cell_type": "code",
   "execution_count": 149,
   "metadata": {},
   "outputs": [],
   "source": [
    "dataset = load_iris()\n",
    "\n",
    "X = dataset.data\n",
    "Y = dataset.target"
   ]
  },
  {
   "cell_type": "code",
   "execution_count": 150,
   "metadata": {},
   "outputs": [],
   "source": [
    "X_train, X_test, Y_train, Y_test = train_test_split(X, Y, test_size=0.1)"
   ]
  },
  {
   "cell_type": "code",
   "execution_count": 151,
   "metadata": {},
   "outputs": [],
   "source": [
    "NN = NeuralNetwork(max_iter=500, batch_size=10, error_threshold=0.01, learning_rate=0.01, random_state=42070)\n",
    "NN.add_layer(n_neuron=4)\n",
    "NN.add_layer(n_neuron=3, activation_function='relu')\n",
    "NN.add_layer(n_neuron=2, activation_function='relu')\n",
    "NN.add_layer(n_neuron=2, activation_function='sigmoid')\n",
    "NN.add_layer(n_neuron=3)"
   ]
  },
  {
   "cell_type": "code",
   "execution_count": 152,
   "metadata": {},
   "outputs": [],
   "source": [
    "NN.fit(X_train, Y_train)\n",
    "y_pred = NN.predict(X_test)"
   ]
  },
  {
   "cell_type": "markdown",
   "metadata": {},
   "source": [
    "### Hasil Implementasi"
   ]
  },
  {
   "cell_type": "code",
   "execution_count": 153,
   "metadata": {},
   "outputs": [
    {
     "name": "stdout",
     "output_type": "stream",
     "text": [
      "Confusion Matrix:\n",
      " [[6 0 0]\n",
      " [2 0 5]\n",
      " [0 0 2]]\n",
      "Precision = 0.33809523809523806\n",
      "Accuracy score = 0.39555555555555555\n",
      "Recall Score = 0.5333333333333333\n",
      "F1 Score = 0.4021164021164021\n"
     ]
    }
   ],
   "source": [
    "conf_matrix_us = confusion_matrix(Y_test, y_pred)\n",
    "precision_us = precision(Y_test, y_pred)\n",
    "accuracy_us = accuracy(Y_test, y_pred)\n",
    "recall_us = recall(Y_test, y_pred)\n",
    "f1_us = f1(Y_test,y_pred)\n",
    "\n",
    "print(f'Confusion Matrix:\\n {conf_matrix_us}')\n",
    "print(f'Precision = {precision_us}')\n",
    "print(f'Accuracy score = {accuracy_us}')\n",
    "print(f'Recall Score = {recall_us}')\n",
    "print(f'F1 Score = {f1_us}')"
   ]
  },
  {
   "cell_type": "markdown",
   "metadata": {},
   "source": [
    "### Hasil Sklearn"
   ]
  },
  {
   "cell_type": "code",
   "execution_count": 154,
   "metadata": {},
   "outputs": [],
   "source": [
    "from sklearn.metrics import confusion_matrix, precision_score, accuracy_score, recall_score, f1_score"
   ]
  },
  {
   "cell_type": "code",
   "execution_count": 155,
   "metadata": {},
   "outputs": [
    {
     "name": "stdout",
     "output_type": "stream",
     "text": [
      "Confusion Matrix:\n",
      " [[6 0 0]\n",
      " [2 0 5]\n",
      " [0 0 2]]\n",
      "Precision = 0.33809523809523806\n",
      "Accuracy score = 0.5333333333333333\n",
      "Recall Score = 0.5333333333333333\n",
      "F1 Score = 0.4021164021164021\n"
     ]
    },
    {
     "name": "stderr",
     "output_type": "stream",
     "text": [
      "h:\\ITB Semester 6\\Machine Learning\\ML-IF3270\\env\\lib\\site-packages\\sklearn\\metrics\\_classification.py:1318: UndefinedMetricWarning: Precision is ill-defined and being set to 0.0 in labels with no predicted samples. Use `zero_division` parameter to control this behavior.\n",
      "  _warn_prf(average, modifier, msg_start, len(result))\n"
     ]
    }
   ],
   "source": [
    "conf_matrix_sklearn = confusion_matrix(Y_test, y_pred)\n",
    "precision_sklearn = precision_score(Y_test, y_pred, average='weighted')\n",
    "accuracy_sklearn = accuracy_score(Y_test, y_pred)\n",
    "recall_sklearn = recall_score(Y_test, y_pred, average='weighted')\n",
    "f1_sklearn = f1_score(Y_test,y_pred, average='weighted')\n",
    "\n",
    "print(f'Confusion Matrix:\\n {conf_matrix_sklearn}')\n",
    "print(f'Precision = {precision_sklearn}')\n",
    "print(f'Accuracy score = {accuracy_sklearn}')\n",
    "print(f'Recall Score = {recall_sklearn}')\n",
    "print(f'F1 Score = {f1_sklearn}')"
   ]
  },
  {
   "cell_type": "markdown",
   "metadata": {},
   "source": [
    "### Tabel Perbandingan Precission, Accuracy, Recall, dan F1 Score"
   ]
  },
  {
   "cell_type": "code",
   "execution_count": 156,
   "metadata": {},
   "outputs": [
    {
     "data": {
      "text/html": [
       "<div>\n",
       "<style scoped>\n",
       "    .dataframe tbody tr th:only-of-type {\n",
       "        vertical-align: middle;\n",
       "    }\n",
       "\n",
       "    .dataframe tbody tr th {\n",
       "        vertical-align: top;\n",
       "    }\n",
       "\n",
       "    .dataframe thead th {\n",
       "        text-align: right;\n",
       "    }\n",
       "</style>\n",
       "<table border=\"1\" class=\"dataframe\">\n",
       "  <thead>\n",
       "    <tr style=\"text-align: right;\">\n",
       "      <th></th>\n",
       "      <th>Algoritma</th>\n",
       "      <th>Precission</th>\n",
       "      <th>Accuracy</th>\n",
       "      <th>Recall</th>\n",
       "      <th>F1</th>\n",
       "    </tr>\n",
       "  </thead>\n",
       "  <tbody>\n",
       "    <tr>\n",
       "      <th>0</th>\n",
       "      <td>Algoritma Dibuat</td>\n",
       "      <td>0.33809523809523806</td>\n",
       "      <td>0.39555555555555555</td>\n",
       "      <td>0.5333333333333333</td>\n",
       "      <td>0.4021164021164021</td>\n",
       "    </tr>\n",
       "    <tr>\n",
       "      <th>1</th>\n",
       "      <td>Algoritma Sklearn</td>\n",
       "      <td>0.33809523809523806</td>\n",
       "      <td>0.5333333333333333</td>\n",
       "      <td>0.5333333333333333</td>\n",
       "      <td>0.4021164021164021</td>\n",
       "    </tr>\n",
       "  </tbody>\n",
       "</table>\n",
       "</div>"
      ],
      "text/plain": [
       "           Algoritma           Precission             Accuracy  \\\n",
       "0   Algoritma Dibuat  0.33809523809523806  0.39555555555555555   \n",
       "1  Algoritma Sklearn  0.33809523809523806   0.5333333333333333   \n",
       "\n",
       "               Recall                  F1  \n",
       "0  0.5333333333333333  0.4021164021164021  \n",
       "1  0.5333333333333333  0.4021164021164021  "
      ]
     },
     "execution_count": 156,
     "metadata": {},
     "output_type": "execute_result"
    }
   ],
   "source": [
    "table = pd.DataFrame(np.array([['Algoritma Dibuat', precision_us, accuracy_us, recall_us, f1_us], ['Algoritma Sklearn', precision_sklearn, accuracy_sklearn, recall_sklearn, f1_sklearn]]),\n",
    "  columns=['Algoritma', 'Precission', 'Accuracy', 'Recall', 'F1'])\n",
    "table"
   ]
  },
  {
   "cell_type": "markdown",
   "metadata": {},
   "source": [
    "### Analisis"
   ]
  },
  {
   "cell_type": "markdown",
   "metadata": {},
   "source": [
    "Hasil yang didapat antara implementasi dan dari sklearn sama persis. Dengan demikian dapat disimpulkan implementasi yang telah dibuat cukup baik."
   ]
  },
  {
   "cell_type": "markdown",
   "metadata": {},
   "source": [
    "Warning atau peringatan pada hasil dari sklearn, disebabkan terdapat kelas yang tidak muncul pada data test tetapi muncul pada hasil prediksi, ataupun sebaliknya."
   ]
  }
 ],
 "metadata": {
  "interpreter": {
   "hash": "6e5aab50277b0b6f38eb5413e0409d87bdbdf5e7f7ee15cf675cae43f714ba4b"
  },
  "kernelspec": {
   "display_name": "Python 3 (ipykernel)",
   "language": "python",
   "name": "python3"
  },
  "language_info": {
   "codemirror_mode": {
    "name": "ipython",
    "version": 3
   },
   "file_extension": ".py",
   "mimetype": "text/x-python",
   "name": "python",
   "nbconvert_exporter": "python",
   "pygments_lexer": "ipython3",
   "version": "3.9.4"
  }
 },
 "nbformat": 4,
 "nbformat_minor": 2
}
