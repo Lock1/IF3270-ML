{
 "cells": [
  {
   "cell_type": "code",
   "execution_count": 1,
   "metadata": {},
   "outputs": [],
   "source": [
    "from neural_net import NeuralNetwork\n",
    "import numpy as np\n",
    "from sklearn.model_selection import train_test_split\n",
    "from sklearn.datasets import load_iris\n",
    "from metrics import confusion_matrix, prediction_stats, accuracy, precision, recall, f1\n",
    "from sklearn.neural_network import MLPClassifier"
   ]
  },
  {
   "cell_type": "code",
   "execution_count": 2,
   "metadata": {},
   "outputs": [],
   "source": [
    "dataset = load_iris()\n",
    "\n",
    "X = dataset.data\n",
    "Y = dataset.target"
   ]
  },
  {
   "cell_type": "code",
   "execution_count": 3,
   "metadata": {},
   "outputs": [],
   "source": [
    "X_train, X_test, Y_train, Y_test = train_test_split(X, Y, test_size=0.1)"
   ]
  },
  {
   "cell_type": "code",
   "execution_count": 4,
   "metadata": {},
   "outputs": [],
   "source": [
    "def print_scores_and_matrix(y_true, y_pred):\n",
    "    print(f'Confusion Matrix:\\n {confusion_matrix(y_true, y_pred)}')\n",
    "    print(f'Precision = {precision(y_true, y_pred)}')\n",
    "    print(f'Accuracy score = {accuracy(y_true, y_pred)}')\n",
    "    print(f'Recall Score = {recall(y_true, y_pred)}')\n",
    "    print(f'F1 Score = {f1(y_true,y_pred)}')"
   ]
  },
  {
   "cell_type": "code",
   "execution_count": 5,
   "metadata": {},
   "outputs": [],
   "source": [
    "NN = NeuralNetwork(max_iter=200, batch_size=10, error_threshold=0.1, learning_rate=0.1, random_state=42069)\n",
    "NN.add_layer(n_neuron=4)\n",
    "NN.add_layer(n_neuron=4, activation_function='relu')\n",
    "NN.add_layer(n_neuron=4, activation_function='relu')\n",
    "NN.add_layer(n_neuron=3)"
   ]
  },
  {
   "cell_type": "code",
   "execution_count": 6,
   "metadata": {},
   "outputs": [],
   "source": [
    "NN.fit(X_train, Y_train)\n",
    "y_pred = NN.predict(X_test)"
   ]
  },
  {
   "cell_type": "code",
   "execution_count": 7,
   "metadata": {},
   "outputs": [
    {
     "name": "stdout",
     "output_type": "stream",
     "text": [
      "Confusion Matrix:\n",
      " [[5 0 0]\n",
      " [4 0 0]\n",
      " [6 0 0]]\n",
      "Precision = 0.1111111111111111\n",
      "Accuracy score = 0.34222222222222226\n",
      "Recall Score = 0.3333333333333333\n",
      "F1 Score = 0.16666666666666666\n"
     ]
    }
   ],
   "source": [
    "print_scores_and_matrix(Y_test,y_pred)"
   ]
  },
  {
   "cell_type": "code",
   "execution_count": 8,
   "metadata": {},
   "outputs": [],
   "source": [
    "clf = MLPClassifier(\n",
    "    hidden_layer_sizes=(3,3),\n",
    "    activation=\"relu\", \n",
    "    solver=\"sgd\", \n",
    "    batch_size=10, \n",
    "    learning_rate_init=0.01, \n",
    "    learning_rate=\"constant\", \n",
    "    max_iter=500,\n",
    "    random_state=42069\n",
    ")"
   ]
  },
  {
   "cell_type": "code",
   "execution_count": 9,
   "metadata": {},
   "outputs": [],
   "source": [
    "clf.fit(X_train, Y_train)\n",
    "y_pred = clf.predict(X_test)"
   ]
  },
  {
   "cell_type": "code",
   "execution_count": 10,
   "metadata": {},
   "outputs": [
    {
     "name": "stdout",
     "output_type": "stream",
     "text": [
      "Confusion Matrix:\n",
      " [[5 0 0]\n",
      " [0 4 0]\n",
      " [0 2 4]]\n",
      "Precision = 0.9111111111111111\n",
      "Accuracy score = 0.34222222222222226\n",
      "Recall Score = 0.8666666666666667\n",
      "F1 Score = 0.8666666666666667\n"
     ]
    }
   ],
   "source": [
    "print_scores_and_matrix(Y_test,y_pred)"
   ]
  }
 ],
 "metadata": {
  "interpreter": {
   "hash": "6e5aab50277b0b6f38eb5413e0409d87bdbdf5e7f7ee15cf675cae43f714ba4b"
  },
  "kernelspec": {
   "display_name": "Python 3 (ipykernel)",
   "language": "python",
   "name": "python3"
  },
  "language_info": {
   "codemirror_mode": {
    "name": "ipython",
    "version": 3
   },
   "file_extension": ".py",
   "mimetype": "text/x-python",
   "name": "python",
   "nbconvert_exporter": "python",
   "pygments_lexer": "ipython3",
   "version": "3.7.9"
  }
 },
 "nbformat": 4,
 "nbformat_minor": 2
}
