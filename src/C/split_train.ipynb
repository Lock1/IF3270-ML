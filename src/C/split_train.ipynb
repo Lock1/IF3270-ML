{
 "cells": [
  {
   "cell_type": "code",
   "execution_count": 1,
   "metadata": {},
   "outputs": [],
   "source": [
    "from neural_net import NeuralNetwork\n",
    "import numpy as np\n",
    "from sklearn.model_selection import train_test_split\n",
    "from sklearn.datasets import load_iris\n",
    "from metrics import confusion_matrix, prediction_stats, accuracy, precision, recall, f1"
   ]
  },
  {
   "cell_type": "code",
   "execution_count": 2,
   "metadata": {},
   "outputs": [],
   "source": [
    "dataset = load_iris()\n",
    "\n",
    "X = dataset.data\n",
    "Y = dataset.target"
   ]
  },
  {
   "cell_type": "code",
   "execution_count": 3,
   "metadata": {},
   "outputs": [],
   "source": [
    "X_train, X_test, Y_train, Y_test = train_test_split(X, Y, test_size=0.1)"
   ]
  },
  {
   "cell_type": "code",
   "execution_count": 4,
   "metadata": {},
   "outputs": [],
   "source": [
    "NN = NeuralNetwork(max_iter=200, batch_size=10, error_threshold=0.1, learning_rate=0.1, random_state=42069)\n",
    "NN.add_layer(n_neuron=4)\n",
    "NN.add_layer(n_neuron=3, activation_function='relu')\n",
    "NN.add_layer(n_neuron=2, activation_function='relu')\n",
    "NN.add_layer(n_neuron=2, activation_function='sigmoid')\n",
    "NN.add_layer(n_neuron=3)"
   ]
  },
  {
   "cell_type": "code",
   "execution_count": 5,
   "metadata": {},
   "outputs": [
    {
     "name": "stderr",
     "output_type": "stream",
     "text": [
      "D:\\Kuliah\\ML\\ML-IF3270\\src\\C\\neural_net.py:92: RuntimeWarning: invalid value encountered in multiply\n",
      "  currLayer.error_term = np.sum(d_layer * wkh_dk, axis=0)\n"
     ]
    }
   ],
   "source": [
    "NN.fit(X_train, Y_train)\n",
    "y_pred = NN.predict(X_test)"
   ]
  },
  {
   "cell_type": "markdown",
   "metadata": {},
   "source": [
    "### Hasil Implementasi"
   ]
  },
  {
   "cell_type": "code",
   "execution_count": 6,
   "metadata": {},
   "outputs": [
    {
     "name": "stdout",
     "output_type": "stream",
     "text": [
      "Confusion Matrix:\n",
      " [[5 0 0]\n",
      " [6 0 0]\n",
      " [4 0 0]]\n",
      "Precision = 0.1111111111111111\n",
      "Accuracy score = 0.3422222222222222\n",
      "Recall Score = 0.3333333333333333\n",
      "F1 Score = 0.16666666666666666\n"
     ]
    }
   ],
   "source": [
    "print(f'Confusion Matrix:\\n {confusion_matrix(Y_test, y_pred)}')\n",
    "print(f'Precision = {precision(Y_test, y_pred)}')\n",
    "print(f'Accuracy score = {accuracy(Y_test, y_pred)}')\n",
    "print(f'Recall Score = {recall(Y_test, y_pred)}')\n",
    "print(f'F1 Score = {f1(Y_test,y_pred)}')"
   ]
  },
  {
   "cell_type": "markdown",
   "metadata": {},
   "source": [
    "### Hasil Sklearn"
   ]
  },
  {
   "cell_type": "code",
   "execution_count": 7,
   "metadata": {},
   "outputs": [],
   "source": [
    "from sklearn.metrics import confusion_matrix, precision_score, accuracy_score, recall_score, f1_score"
   ]
  },
  {
   "cell_type": "code",
   "execution_count": 8,
   "metadata": {},
   "outputs": [
    {
     "name": "stdout",
     "output_type": "stream",
     "text": [
      "Confusion Matrix:\n",
      " [[5 0 0]\n",
      " [6 0 0]\n",
      " [4 0 0]]\n",
      "Precision = 0.1111111111111111\n",
      "Accuracy score = 0.3333333333333333\n",
      "Recall Score = 0.3333333333333333\n",
      "F1 Score = 0.16666666666666666\n"
     ]
    },
    {
     "name": "stderr",
     "output_type": "stream",
     "text": [
      "C:\\Users\\fnaab\\AppData\\Local\\Packages\\PythonSoftwareFoundation.Python.3.7_qbz5n2kfra8p0\\LocalCache\\local-packages\\Python37\\site-packages\\sklearn\\metrics\\_classification.py:1318: UndefinedMetricWarning: Precision is ill-defined and being set to 0.0 in labels with no predicted samples. Use `zero_division` parameter to control this behavior.\n",
      "  _warn_prf(average, modifier, msg_start, len(result))\n"
     ]
    }
   ],
   "source": [
    "print(f'Confusion Matrix:\\n {confusion_matrix(Y_test, y_pred)}')\n",
    "print(f'Precision = {precision_score(Y_test, y_pred, average=\"weighted\")}')\n",
    "print(f'Accuracy score = {accuracy_score(Y_test, y_pred)}')\n",
    "print(f'Recall Score = {recall_score(Y_test, y_pred, average=\"weighted\")}')\n",
    "print(f'F1 Score = {f1_score(Y_test,y_pred, average=\"weighted\")}')"
   ]
  },
  {
   "cell_type": "markdown",
   "metadata": {},
   "source": [
    "### Tabel Perbandingan Precission, Accuracy, Recall, dan F1 Score"
   ]
  },
  {
   "cell_type": "markdown",
   "metadata": {},
   "source": [
    "#### Algoritma yang Dibuat\n",
    "\n",
    "| Jenis Score | Nilai |\n",
    "| --- | --- |\n",
    "| Precision | 0.1111111111111111 |\n",
    "| Accuracy | 0.3422222222222222 |\n",
    "| Recall | 0.3333333333333333 |\n",
    "| F1 | 0.16666666666666666 |\n",
    "\n",
    "### Algoritma Sklearn\n",
    "\n",
    "| Jenis Score | Nilai |\n",
    "| --- | --- |\n",
    "| Precision | 0.1111111111111111 |\n",
    "| Accuracy | 0.3333333333333333 |\n",
    "| Recall | 0.3333333333333333 |\n",
    "| F1 | 0.16666666666666666 |"
   ]
  },
  {
   "cell_type": "markdown",
   "metadata": {},
   "source": [
    "### Analisis"
   ]
  },
  {
   "cell_type": "code",
   "execution_count": null,
   "metadata": {},
   "outputs": [],
   "source": [
    "Hasil yang didapat antara implementasi dan dari sklearn sama persis. Dengan demikian dapat disimpulkan implement"
   ]
  },
  {
   "cell_type": "markdown",
   "metadata": {},
   "source": [
    "Warning atau peringatan pada hasil dari sklearn, disebabkan terdapat kelas yang tidak muncul pada data test tetapi muncul pada hasil prediksi, ataupun sebaliknya."
   ]
  }
 ],
 "metadata": {
  "interpreter": {
   "hash": "6e5aab50277b0b6f38eb5413e0409d87bdbdf5e7f7ee15cf675cae43f714ba4b"
  },
  "kernelspec": {
   "display_name": "Python 3 (ipykernel)",
   "language": "python",
   "name": "python3"
  },
  "language_info": {
   "codemirror_mode": {
    "name": "ipython",
    "version": 3
   },
   "file_extension": ".py",
   "mimetype": "text/x-python",
   "name": "python",
   "nbconvert_exporter": "python",
   "pygments_lexer": "ipython3",
   "version": "3.7.9"
  }
 },
 "nbformat": 4,
 "nbformat_minor": 2
}
