{
 "cells": [
  {
   "cell_type": "code",
   "execution_count": 1,
   "metadata": {},
   "outputs": [],
   "source": [
    "from neural_net import NeuralNetwork\n",
    "import numpy as np\n",
    "from sklearn.model_selection import KFold\n",
    "from sklearn.datasets import load_iris\n",
    "from metrics import confusion_matrix, prediction_stats, accuracy, precision, recall, f1"
   ]
  },
  {
   "cell_type": "code",
   "execution_count": 2,
   "metadata": {},
   "outputs": [],
   "source": [
    "dataset = load_iris()\n",
    "\n",
    "X = dataset.data\n",
    "Y = dataset.target"
   ]
  },
  {
   "cell_type": "code",
   "execution_count": 3,
   "metadata": {},
   "outputs": [],
   "source": [
    "kf = KFold(n_splits=10, shuffle=True, random_state=42069)"
   ]
  },
  {
   "cell_type": "code",
   "execution_count": 4,
   "metadata": {},
   "outputs": [],
   "source": [
    "NN = NeuralNetwork(max_iter=500, batch_size=10, error_threshold=0.01, learning_rate=0.01, random_state=42069)\n",
    "NN.add_layer(n_neuron=4)\n",
    "NN.add_layer(n_neuron=3, activation_function='relu')\n",
    "NN.add_layer(n_neuron=3, activation_function='relu')\n",
    "NN.add_layer(n_neuron=2, activation_function='sigmoid')\n",
    "NN.add_layer(n_neuron=3)"
   ]
  },
  {
   "cell_type": "markdown",
   "metadata": {},
   "source": [
    "### Hasil Implementasi"
   ]
  },
  {
   "cell_type": "code",
   "execution_count": 5,
   "metadata": {},
   "outputs": [
    {
     "name": "stdout",
     "output_type": "stream",
     "text": [
      "------------------- FOLD 1 -------------------\n",
      "Confusion Matrix:\n",
      " [[0 6 0]\n",
      " [0 2 3]\n",
      " [0 0 4]]\n",
      "Precision = 0.2357142857142857\n",
      "Accuracy score = 0.3422222222222222\n",
      "Recall Score = 0.4\n",
      "F1 Score = 0.2965034965034965\n",
      "\n",
      "------------------- FOLD 2 -------------------\n",
      "Confusion Matrix:\n",
      " [[0 3 0]\n",
      " [0 5 4]\n",
      " [0 0 3]]\n",
      "Precision = 0.4607142857142857\n",
      "Accuracy score = 0.44\n",
      "Recall Score = 0.5333333333333333\n",
      "F1 Score = 0.4729411764705882\n",
      "\n",
      "------------------- FOLD 3 -------------------\n",
      "Confusion Matrix:\n",
      " [[0 7 0]\n",
      " [0 1 2]\n",
      " [0 0 5]]\n",
      "Precision = 0.2630952380952381\n",
      "Accuracy score = 0.3688888888888889\n",
      "Recall Score = 0.4\n",
      "F1 Score = 0.31414141414141405\n",
      "\n",
      "------------------- FOLD 4 -------------------\n",
      "Confusion Matrix:\n",
      " [[0 5 0]\n",
      " [0 3 3]\n",
      " [0 0 4]]\n",
      "Precision = 0.30238095238095236\n",
      "Accuracy score = 0.3422222222222222\n",
      "Recall Score = 0.4666666666666667\n",
      "F1 Score = 0.36536796536796534\n",
      "\n",
      "------------------- FOLD 5 -------------------\n",
      "Confusion Matrix:\n",
      " [[0 8 0]\n",
      " [0 4 0]\n",
      " [0 1 2]]\n",
      "Precision = 0.28205128205128205\n",
      "Accuracy score = 0.39555555555555555\n",
      "Recall Score = 0.4\n",
      "F1 Score = 0.2854901960784314\n",
      "\n",
      "------------------- FOLD 6 -------------------\n",
      "Confusion Matrix:\n",
      " [[0 6 0]\n",
      " [0 2 1]\n",
      " [0 0 6]]\n",
      "Precision = 0.39285714285714285\n",
      "Accuracy score = 0.36000000000000004\n",
      "Recall Score = 0.5333333333333333\n",
      "F1 Score = 0.44195804195804195\n",
      "\n",
      "------------------- FOLD 7 -------------------\n",
      "Confusion Matrix:\n",
      " [[0 2 0]\n",
      " [0 5 0]\n",
      " [0 5 3]]\n",
      "Precision = 0.6722222222222223\n",
      "Accuracy score = 0.4133333333333333\n",
      "Recall Score = 0.5333333333333333\n",
      "F1 Score = 0.48698752228163994\n",
      "\n",
      "------------------- FOLD 8 -------------------\n",
      "Confusion Matrix:\n",
      " [[0 5 0]\n",
      " [0 3 2]\n",
      " [0 0 5]]\n",
      "Precision = 0.3630952380952381\n",
      "Accuracy score = 0.3333333333333333\n",
      "Recall Score = 0.5333333333333333\n",
      "F1 Score = 0.4316239316239316\n",
      "\n",
      "------------------- FOLD 9 -------------------\n",
      "Confusion Matrix:\n",
      " [[0 5 0]\n",
      " [0 3 2]\n",
      " [0 0 5]]\n",
      "Precision = 0.3630952380952381\n",
      "Accuracy score = 0.3333333333333333\n",
      "Recall Score = 0.5333333333333333\n",
      "F1 Score = 0.4316239316239316\n",
      "\n",
      "------------------- FOLD 10 -------------------\n",
      "Confusion Matrix:\n",
      " [[0 3 0]\n",
      " [0 5 0]\n",
      " [0 2 5]]\n",
      "Precision = 0.6333333333333333\n",
      "Accuracy score = 0.3688888888888889\n",
      "Recall Score = 0.6666666666666666\n",
      "F1 Score = 0.611111111111111\n",
      "\n"
     ]
    }
   ],
   "source": [
    "i = 1\n",
    "for train_idx, test_idx in kf.split(X):\n",
    "    print(f'''------------------- FOLD {i} -------------------''')\n",
    "    X_train, X_test = X[train_idx], X[test_idx]\n",
    "    Y_train, Y_test = Y[train_idx], Y[test_idx]\n",
    "    NN.fit(X_train, Y_train)\n",
    "    y_pred = NN.predict(X_test)\n",
    "    \n",
    "    conf_matrix = confusion_matrix(Y_test, y_pred)\n",
    "    print(f'Confusion Matrix:\\n {conf_matrix}')\n",
    "    print(f'Precision = {precision(Y_test, y_pred)}')\n",
    "    print(f'Accuracy score = {accuracy(Y_test, y_pred)}')\n",
    "    print(f'Recall Score = {recall(Y_test, y_pred)}')\n",
    "    print(f'F1 Score = {f1(Y_test,y_pred)}\\n')\n",
    "    i += 1  "
   ]
  },
  {
   "cell_type": "markdown",
   "metadata": {},
   "source": [
    "### Hasil Sklearn"
   ]
  },
  {
   "cell_type": "code",
   "execution_count": 6,
   "metadata": {},
   "outputs": [],
   "source": [
    "from sklearn.neural_network import MLPClassifier\n",
    "from sklearn.metrics import confusion_matrix, precision_score, accuracy_score, recall_score, f1_score"
   ]
  },
  {
   "cell_type": "code",
   "execution_count": 7,
   "metadata": {},
   "outputs": [
    {
     "name": "stdout",
     "output_type": "stream",
     "text": [
      "------------------- FOLD 1 -------------------\n",
      "Confusion Matrix:\n",
      " [[0 6 0]\n",
      " [0 1 4]\n",
      " [0 0 4]]\n",
      "Precision = 0.18095238095238095\n",
      "Accuracy score = 0.3333333333333333\n",
      "Recall Score = 0.3333333333333333\n",
      "F1 Score = 0.23333333333333334\n",
      "\n",
      "------------------- FOLD 2 -------------------\n"
     ]
    },
    {
     "name": "stderr",
     "output_type": "stream",
     "text": [
      "C:\\Users\\fnaab\\AppData\\Local\\Packages\\PythonSoftwareFoundation.Python.3.7_qbz5n2kfra8p0\\LocalCache\\local-packages\\Python37\\site-packages\\sklearn\\metrics\\_classification.py:1318: UndefinedMetricWarning: Precision is ill-defined and being set to 0.0 in labels with no predicted samples. Use `zero_division` parameter to control this behavior.\n",
      "  _warn_prf(average, modifier, msg_start, len(result))\n"
     ]
    },
    {
     "name": "stdout",
     "output_type": "stream",
     "text": [
      "Confusion Matrix:\n",
      " [[0 3 0]\n",
      " [0 5 4]\n",
      " [0 0 3]]\n",
      "Precision = 0.4607142857142857\n",
      "Accuracy score = 0.5333333333333333\n",
      "Recall Score = 0.5333333333333333\n",
      "F1 Score = 0.4729411764705882\n",
      "\n",
      "------------------- FOLD 3 -------------------\n"
     ]
    },
    {
     "name": "stderr",
     "output_type": "stream",
     "text": [
      "C:\\Users\\fnaab\\AppData\\Local\\Packages\\PythonSoftwareFoundation.Python.3.7_qbz5n2kfra8p0\\LocalCache\\local-packages\\Python37\\site-packages\\sklearn\\metrics\\_classification.py:1318: UndefinedMetricWarning: Precision is ill-defined and being set to 0.0 in labels with no predicted samples. Use `zero_division` parameter to control this behavior.\n",
      "  _warn_prf(average, modifier, msg_start, len(result))\n"
     ]
    },
    {
     "name": "stdout",
     "output_type": "stream",
     "text": [
      "Confusion Matrix:\n",
      " [[0 7 0]\n",
      " [0 1 2]\n",
      " [0 0 5]]\n",
      "Precision = 0.2630952380952381\n",
      "Accuracy score = 0.4\n",
      "Recall Score = 0.4\n",
      "F1 Score = 0.31414141414141405\n",
      "\n",
      "------------------- FOLD 4 -------------------\n"
     ]
    },
    {
     "name": "stderr",
     "output_type": "stream",
     "text": [
      "C:\\Users\\fnaab\\AppData\\Local\\Packages\\PythonSoftwareFoundation.Python.3.7_qbz5n2kfra8p0\\LocalCache\\local-packages\\Python37\\site-packages\\sklearn\\metrics\\_classification.py:1318: UndefinedMetricWarning: Precision is ill-defined and being set to 0.0 in labels with no predicted samples. Use `zero_division` parameter to control this behavior.\n",
      "  _warn_prf(average, modifier, msg_start, len(result))\n"
     ]
    },
    {
     "name": "stdout",
     "output_type": "stream",
     "text": [
      "Confusion Matrix:\n",
      " [[0 5 0]\n",
      " [0 3 3]\n",
      " [0 0 4]]\n",
      "Precision = 0.30238095238095236\n",
      "Accuracy score = 0.4666666666666667\n",
      "Recall Score = 0.4666666666666667\n",
      "F1 Score = 0.36536796536796534\n",
      "\n",
      "------------------- FOLD 5 -------------------\n"
     ]
    },
    {
     "name": "stderr",
     "output_type": "stream",
     "text": [
      "C:\\Users\\fnaab\\AppData\\Local\\Packages\\PythonSoftwareFoundation.Python.3.7_qbz5n2kfra8p0\\LocalCache\\local-packages\\Python37\\site-packages\\sklearn\\metrics\\_classification.py:1318: UndefinedMetricWarning: Precision is ill-defined and being set to 0.0 in labels with no predicted samples. Use `zero_division` parameter to control this behavior.\n",
      "  _warn_prf(average, modifier, msg_start, len(result))\n"
     ]
    },
    {
     "name": "stdout",
     "output_type": "stream",
     "text": [
      "Confusion Matrix:\n",
      " [[0 8 0]\n",
      " [0 4 0]\n",
      " [0 1 2]]\n",
      "Precision = 0.28205128205128205\n",
      "Accuracy score = 0.4\n",
      "Recall Score = 0.4\n",
      "F1 Score = 0.2854901960784314\n",
      "\n",
      "------------------- FOLD 6 -------------------\n"
     ]
    },
    {
     "name": "stderr",
     "output_type": "stream",
     "text": [
      "C:\\Users\\fnaab\\AppData\\Local\\Packages\\PythonSoftwareFoundation.Python.3.7_qbz5n2kfra8p0\\LocalCache\\local-packages\\Python37\\site-packages\\sklearn\\metrics\\_classification.py:1318: UndefinedMetricWarning: Precision is ill-defined and being set to 0.0 in labels with no predicted samples. Use `zero_division` parameter to control this behavior.\n",
      "  _warn_prf(average, modifier, msg_start, len(result))\n"
     ]
    },
    {
     "name": "stdout",
     "output_type": "stream",
     "text": [
      "Confusion Matrix:\n",
      " [[0 6 0]\n",
      " [0 1 2]\n",
      " [0 0 6]]\n",
      "Precision = 0.32857142857142857\n",
      "Accuracy score = 0.4666666666666667\n",
      "Recall Score = 0.4666666666666667\n",
      "F1 Score = 0.3828571428571428\n",
      "\n",
      "------------------- FOLD 7 -------------------\n"
     ]
    },
    {
     "name": "stderr",
     "output_type": "stream",
     "text": [
      "C:\\Users\\fnaab\\AppData\\Local\\Packages\\PythonSoftwareFoundation.Python.3.7_qbz5n2kfra8p0\\LocalCache\\local-packages\\Python37\\site-packages\\sklearn\\metrics\\_classification.py:1318: UndefinedMetricWarning: Precision is ill-defined and being set to 0.0 in labels with no predicted samples. Use `zero_division` parameter to control this behavior.\n",
      "  _warn_prf(average, modifier, msg_start, len(result))\n"
     ]
    },
    {
     "name": "stdout",
     "output_type": "stream",
     "text": [
      "Confusion Matrix:\n",
      " [[0 2 0]\n",
      " [0 5 0]\n",
      " [0 7 1]]\n",
      "Precision = 0.6523809523809524\n",
      "Accuracy score = 0.4\n",
      "Recall Score = 0.4\n",
      "F1 Score = 0.29395711500974653\n",
      "\n",
      "------------------- FOLD 8 -------------------\n"
     ]
    },
    {
     "name": "stderr",
     "output_type": "stream",
     "text": [
      "C:\\Users\\fnaab\\AppData\\Local\\Packages\\PythonSoftwareFoundation.Python.3.7_qbz5n2kfra8p0\\LocalCache\\local-packages\\Python37\\site-packages\\sklearn\\metrics\\_classification.py:1318: UndefinedMetricWarning: Precision is ill-defined and being set to 0.0 in labels with no predicted samples. Use `zero_division` parameter to control this behavior.\n",
      "  _warn_prf(average, modifier, msg_start, len(result))\n"
     ]
    },
    {
     "name": "stdout",
     "output_type": "stream",
     "text": [
      "Confusion Matrix:\n",
      " [[0 5 0]\n",
      " [0 2 3]\n",
      " [0 0 5]]\n",
      "Precision = 0.3035714285714286\n",
      "Accuracy score = 0.4666666666666667\n",
      "Recall Score = 0.4666666666666667\n",
      "F1 Score = 0.3675213675213675\n",
      "\n",
      "------------------- FOLD 9 -------------------\n"
     ]
    },
    {
     "name": "stderr",
     "output_type": "stream",
     "text": [
      "C:\\Users\\fnaab\\AppData\\Local\\Packages\\PythonSoftwareFoundation.Python.3.7_qbz5n2kfra8p0\\LocalCache\\local-packages\\Python37\\site-packages\\sklearn\\metrics\\_classification.py:1318: UndefinedMetricWarning: Precision is ill-defined and being set to 0.0 in labels with no predicted samples. Use `zero_division` parameter to control this behavior.\n",
      "  _warn_prf(average, modifier, msg_start, len(result))\n"
     ]
    },
    {
     "name": "stdout",
     "output_type": "stream",
     "text": [
      "Confusion Matrix:\n",
      " [[0 5 0]\n",
      " [0 3 2]\n",
      " [0 0 5]]\n",
      "Precision = 0.3630952380952381\n",
      "Accuracy score = 0.5333333333333333\n",
      "Recall Score = 0.5333333333333333\n",
      "F1 Score = 0.4316239316239316\n",
      "\n",
      "------------------- FOLD 10 -------------------\n"
     ]
    },
    {
     "name": "stderr",
     "output_type": "stream",
     "text": [
      "C:\\Users\\fnaab\\AppData\\Local\\Packages\\PythonSoftwareFoundation.Python.3.7_qbz5n2kfra8p0\\LocalCache\\local-packages\\Python37\\site-packages\\sklearn\\metrics\\_classification.py:1318: UndefinedMetricWarning: Precision is ill-defined and being set to 0.0 in labels with no predicted samples. Use `zero_division` parameter to control this behavior.\n",
      "  _warn_prf(average, modifier, msg_start, len(result))\n"
     ]
    },
    {
     "name": "stdout",
     "output_type": "stream",
     "text": [
      "Confusion Matrix:\n",
      " [[0 3 0]\n",
      " [0 5 0]\n",
      " [0 2 5]]\n",
      "Precision = 0.6333333333333333\n",
      "Accuracy score = 0.6666666666666666\n",
      "Recall Score = 0.6666666666666666\n",
      "F1 Score = 0.611111111111111\n",
      "\n"
     ]
    },
    {
     "name": "stderr",
     "output_type": "stream",
     "text": [
      "C:\\Users\\fnaab\\AppData\\Local\\Packages\\PythonSoftwareFoundation.Python.3.7_qbz5n2kfra8p0\\LocalCache\\local-packages\\Python37\\site-packages\\sklearn\\metrics\\_classification.py:1318: UndefinedMetricWarning: Precision is ill-defined and being set to 0.0 in labels with no predicted samples. Use `zero_division` parameter to control this behavior.\n",
      "  _warn_prf(average, modifier, msg_start, len(result))\n"
     ]
    }
   ],
   "source": [
    "i = 1\n",
    "for train_idx, test_idx in kf.split(X):\n",
    "    print(f'''------------------- FOLD {i} -------------------''')\n",
    "    X_train, X_test = X[train_idx], X[test_idx]\n",
    "    Y_train, Y_test = Y[train_idx], Y[test_idx]\n",
    "    NN.fit(X_train, Y_train)\n",
    "    y_pred = NN.predict(X_test)\n",
    "    \n",
    "    conf_matrix = confusion_matrix(Y_test, y_pred)\n",
    "    print(f'Confusion Matrix:\\n {conf_matrix}')\n",
    "    print(f'Precision = {precision_score(Y_test, y_pred, average=\"weighted\")}')\n",
    "    print(f'Accuracy score = {accuracy_score(Y_test, y_pred)}')\n",
    "    print(f'Recall Score = {recall_score(Y_test, y_pred, average=\"weighted\")}')\n",
    "    print(f'F1 Score = {f1_score(Y_test,y_pred, average=\"weighted\")}\\n')\n",
    "    i += 1  "
   ]
  },
  {
   "cell_type": "markdown",
   "metadata": {},
   "source": [
    "### Analisis"
   ]
  },
  {
   "cell_type": "markdown",
   "metadata": {},
   "source": [
    "Baik pada hasil implementasi maupun menggunakan method yang disediakan oleh pustaka scikit-learn, hasil yang didapatkan hampir sama. Artinya, implementasi confusion matrix dan score dapat bekerja dengan baik. Sementara itu, hasil yang berbeda antara implementasi dan dari sklearn, dapat terjadi sebab fold yang digunakan untuk testing pada fold yang sama bisa saja berbeda."
   ]
  },
  {
   "cell_type": "markdown",
   "metadata": {},
   "source": [
    "Warning atau peringatan pada hasil dari sklearn, disebabkan terdapat kelas yang tidak muncul pada data test tetapi muncul pada hasil prediksi, ataupun sebaliknya."
   ]
  }
 ],
 "metadata": {
  "interpreter": {
   "hash": "6e5aab50277b0b6f38eb5413e0409d87bdbdf5e7f7ee15cf675cae43f714ba4b"
  },
  "kernelspec": {
   "display_name": "Python 3 (ipykernel)",
   "language": "python",
   "name": "python3"
  },
  "language_info": {
   "codemirror_mode": {
    "name": "ipython",
    "version": 3
   },
   "file_extension": ".py",
   "mimetype": "text/x-python",
   "name": "python",
   "nbconvert_exporter": "python",
   "pygments_lexer": "ipython3",
   "version": "3.7.9"
  }
 },
 "nbformat": 4,
 "nbformat_minor": 2
}
