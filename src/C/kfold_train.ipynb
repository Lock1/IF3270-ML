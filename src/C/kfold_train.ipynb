{
 "cells": [
  {
   "cell_type": "code",
   "execution_count": 1,
   "metadata": {},
   "outputs": [],
   "source": [
    "from neural_net import NeuralNetwork\n",
    "import numpy as np\n",
    "from sklearn.model_selection import KFold\n",
    "from sklearn.datasets import load_iris\n",
    "from metrics import confusion_matrix, prediction_stats, accuracy, precision, recall, f1"
   ]
  },
  {
   "cell_type": "code",
   "execution_count": 2,
   "metadata": {},
   "outputs": [],
   "source": [
    "dataset = load_iris()\n",
    "\n",
    "X = dataset.data\n",
    "Y = dataset.target"
   ]
  },
  {
   "cell_type": "code",
   "execution_count": 3,
   "metadata": {},
   "outputs": [],
   "source": [
    "kf = KFold(n_splits=10, shuffle=True, random_state=1)"
   ]
  },
  {
   "cell_type": "code",
   "execution_count": 4,
   "metadata": {},
   "outputs": [],
   "source": [
    "NN = NeuralNetwork(max_iter=200, batch_size=10, error_threshold=0.1, learning_rate=0.1, random_state=42069)\n",
    "NN.add_layer(n_neuron=4)\n",
    "NN.add_layer(n_neuron=4, activation_function='relu')\n",
    "NN.add_layer(n_neuron=4, activation_function='relu')\n",
    "NN.add_layer(n_neuron=3)"
   ]
  },
  {
   "cell_type": "code",
   "execution_count": 5,
   "metadata": {},
   "outputs": [
    {
     "name": "stdout",
     "output_type": "stream",
     "text": [
      "------------------- FOLD 1 -------------------\n",
      "[0 0 0 0 0 1 1 1 1 1 1 2 2 2 2]\n",
      "------------------- FOLD 2 -------------------\n",
      "[0 0 0 0 0 0 1 1 1 1 1 1 1 2 2]\n",
      "------------------- FOLD 3 -------------------\n",
      "[0 0 0 1 1 1 1 1 2 2 2 2 2 2 2]\n",
      "------------------- FOLD 4 -------------------\n",
      "[0 0 0 0 0 1 1 1 2 2 2 2 2 2 2]\n",
      "------------------- FOLD 5 -------------------\n",
      "[0 0 0 0 0 1 1 1 2 2 2 2 2 2 2]\n",
      "------------------- FOLD 6 -------------------\n",
      "[0 0 0 0 0 0 1 1 1 1 2 2 2 2 2]\n",
      "------------------- FOLD 7 -------------------\n",
      "[0 0 0 1 1 1 1 1 1 1 2 2 2 2 2]\n",
      "------------------- FOLD 8 -------------------\n",
      "[0 0 0 0 0 0 0 1 1 2 2 2 2 2 2]\n",
      "------------------- FOLD 9 -------------------\n",
      "[0 0 0 0 0 0 0 1 1 1 1 1 1 1 2]\n"
     ]
    },
    {
     "ename": "IndexError",
     "evalue": "index -2147483648 is out of bounds for axis 0 with size 3",
     "output_type": "error",
     "traceback": [
      "\u001b[1;31m---------------------------------------------------------------------------\u001b[0m",
      "\u001b[1;31mIndexError\u001b[0m                                Traceback (most recent call last)",
      "\u001b[1;32md:\\Projects\\ML-IF3270\\src\\C\\kfold_train.ipynb Cell 5'\u001b[0m in \u001b[0;36m<cell line: 2>\u001b[1;34m()\u001b[0m\n\u001b[0;32m      <a href='vscode-notebook-cell:/d%3A/Projects/ML-IF3270/src/C/kfold_train.ipynb#ch0000004?line=6'>7</a>\u001b[0m y_pred \u001b[39m=\u001b[39m NN\u001b[39m.\u001b[39mpredict(X_test)\n\u001b[0;32m      <a href='vscode-notebook-cell:/d%3A/Projects/ML-IF3270/src/C/kfold_train.ipynb#ch0000004?line=8'>9</a>\u001b[0m \u001b[39mprint\u001b[39m(Y_test)\n\u001b[1;32m---> <a href='vscode-notebook-cell:/d%3A/Projects/ML-IF3270/src/C/kfold_train.ipynb#ch0000004?line=9'>10</a>\u001b[0m conf_matrix \u001b[39m=\u001b[39m confusion_matrix(Y_test, y_pred)\n\u001b[0;32m     <a href='vscode-notebook-cell:/d%3A/Projects/ML-IF3270/src/C/kfold_train.ipynb#ch0000004?line=10'>11</a>\u001b[0m \u001b[39m# print(f'Confusion Matrix:\\n {conf_matrix}')\u001b[39;00m\n\u001b[0;32m     <a href='vscode-notebook-cell:/d%3A/Projects/ML-IF3270/src/C/kfold_train.ipynb#ch0000004?line=11'>12</a>\u001b[0m \u001b[39m# print(f'Precision = {precision(Y_test, y_pred)}')\u001b[39;00m\n\u001b[0;32m     <a href='vscode-notebook-cell:/d%3A/Projects/ML-IF3270/src/C/kfold_train.ipynb#ch0000004?line=12'>13</a>\u001b[0m \u001b[39m# print(f'Accuracy score = {accuracy(Y_test, y_pred)}')\u001b[39;00m\n\u001b[0;32m     <a href='vscode-notebook-cell:/d%3A/Projects/ML-IF3270/src/C/kfold_train.ipynb#ch0000004?line=13'>14</a>\u001b[0m \u001b[39m# print(f'Recall Score = {recall(Y_test, y_pred)}')\u001b[39;00m\n\u001b[0;32m     <a href='vscode-notebook-cell:/d%3A/Projects/ML-IF3270/src/C/kfold_train.ipynb#ch0000004?line=14'>15</a>\u001b[0m \u001b[39m# print(f'F1 Score = {f1(Y_test,y_pred)}\\n')\u001b[39;00m\n\u001b[0;32m     <a href='vscode-notebook-cell:/d%3A/Projects/ML-IF3270/src/C/kfold_train.ipynb#ch0000004?line=15'>16</a>\u001b[0m i \u001b[39m+\u001b[39m\u001b[39m=\u001b[39m \u001b[39m1\u001b[39m\n",
      "File \u001b[1;32md:\\Projects\\ML-IF3270\\src\\C\\metrics.py:36\u001b[0m, in \u001b[0;36mconfusion_matrix\u001b[1;34m(y_actual, y_pred)\u001b[0m\n\u001b[0;32m     <a href='file:///d%3A/Projects/ML-IF3270/src/C/metrics.py?line=33'>34</a>\u001b[0m \u001b[39m# Generate confusion matrix\u001b[39;00m\n\u001b[0;32m     <a href='file:///d%3A/Projects/ML-IF3270/src/C/metrics.py?line=34'>35</a>\u001b[0m \u001b[39mfor\u001b[39;00m i \u001b[39min\u001b[39;00m \u001b[39mrange\u001b[39m (y_length):\n\u001b[1;32m---> <a href='file:///d%3A/Projects/ML-IF3270/src/C/metrics.py?line=35'>36</a>\u001b[0m    result[y_actual[i]][y_pred[i]] \u001b[39m+\u001b[39m\u001b[39m=\u001b[39m \u001b[39m1\u001b[39m \n\u001b[0;32m     <a href='file:///d%3A/Projects/ML-IF3270/src/C/metrics.py?line=37'>38</a>\u001b[0m \u001b[39mreturn\u001b[39;00m np\u001b[39m.\u001b[39mint_(result)\n",
      "\u001b[1;31mIndexError\u001b[0m: index -2147483648 is out of bounds for axis 0 with size 3"
     ]
    }
   ],
   "source": [
    "i = 1\n",
    "for train_idx, test_idx in kf.split(X):\n",
    "    print(f'''------------------- FOLD {i} -------------------''')\n",
    "    X_train, X_test = X[train_idx], X[test_idx]\n",
    "    Y_train, Y_test = Y[train_idx], Y[test_idx]\n",
    "    NN.fit(X_train, Y_train)\n",
    "    y_pred = NN.predict(X_test)\n",
    "    \n",
    "    print(Y_test)\n",
    "    conf_matrix = confusion_matrix(Y_test, y_pred)\n",
    "    # print(f'Confusion Matrix:\\n {conf_matrix}')\n",
    "    # print(f'Precision = {precision(Y_test, y_pred)}')\n",
    "    # print(f'Accuracy score = {accuracy(Y_test, y_pred)}')\n",
    "    # print(f'Recall Score = {recall(Y_test, y_pred)}')\n",
    "    # print(f'F1 Score = {f1(Y_test,y_pred)}\\n')\n",
    "    i += 1  "
   ]
  }
 ],
 "metadata": {
  "interpreter": {
   "hash": "6e5aab50277b0b6f38eb5413e0409d87bdbdf5e7f7ee15cf675cae43f714ba4b"
  },
  "kernelspec": {
   "display_name": "Python 3.9.0 ('env': venv)",
   "language": "python",
   "name": "python3"
  },
  "language_info": {
   "codemirror_mode": {
    "name": "ipython",
    "version": 3
   },
   "file_extension": ".py",
   "mimetype": "text/x-python",
   "name": "python",
   "nbconvert_exporter": "python",
   "pygments_lexer": "ipython3",
   "version": "3.9.0"
  },
  "orig_nbformat": 4
 },
 "nbformat": 4,
 "nbformat_minor": 2
}
