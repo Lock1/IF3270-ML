{
 "cells": [
  {
   "cell_type": "code",
   "execution_count": 22,
   "metadata": {},
   "outputs": [],
   "source": [
    "from neural_net import NeuralNetwork\n",
    "import numpy as np\n",
    "from sklearn.model_selection import KFold\n",
    "from sklearn.datasets import load_iris\n",
    "from metrics import confusion_matrix, prediction_stats, accuracy, precision, recall, f1"
   ]
  },
  {
   "cell_type": "code",
   "execution_count": 23,
   "metadata": {},
   "outputs": [],
   "source": [
    "dataset = load_iris()\n",
    "\n",
    "X = dataset.data\n",
    "Y = dataset.target"
   ]
  },
  {
   "cell_type": "code",
   "execution_count": 24,
   "metadata": {},
   "outputs": [],
   "source": [
    "kf = KFold(n_splits=10, shuffle=True, random_state=42069)"
   ]
  },
  {
   "cell_type": "code",
   "execution_count": 25,
   "metadata": {},
   "outputs": [],
   "source": [
    "NN = NeuralNetwork(max_iter=500, batch_size=10, error_threshold=0.01, learning_rate=0.01, random_state=42069)\n",
    "NN.add_layer(n_neuron=4)\n",
    "NN.add_layer(n_neuron=3, activation_function='relu')\n",
    "NN.add_layer(n_neuron=3, activation_function='relu')\n",
    "NN.add_layer(n_neuron=2, activation_function='sigmoid')\n",
    "NN.add_layer(n_neuron=3)"
   ]
  },
  {
   "cell_type": "code",
   "execution_count": 26,
   "metadata": {},
   "outputs": [
    {
     "name": "stdout",
     "output_type": "stream",
     "text": [
      "------------------- FOLD 1 -------------------\n",
      "Confusion Matrix:\n",
      " [[0 0 6]\n",
      " [0 3 2]\n",
      " [0 4 0]]\n",
      "Precision = 0.14285714285714285\n",
      "Accuracy score = 0.3422222222222222\n",
      "Recall Score = 0.2\n",
      "F1 Score = 0.16666666666666666\n",
      "\n",
      "------------------- FOLD 2 -------------------\n",
      "Confusion Matrix:\n",
      " [[0 0 3]\n",
      " [0 4 5]\n",
      " [0 3 0]]\n",
      "Precision = 0.3428571428571428\n",
      "Accuracy score = 0.44\n",
      "Recall Score = 0.26666666666666666\n",
      "F1 Score = 0.3\n",
      "\n",
      "------------------- FOLD 3 -------------------\n",
      "Confusion Matrix:\n",
      " [[0 0 7]\n",
      " [0 2 1]\n",
      " [0 5 0]]\n",
      "Precision = 0.05714285714285714\n",
      "Accuracy score = 0.3688888888888889\n",
      "Recall Score = 0.13333333333333333\n",
      "F1 Score = 0.08000000000000002\n",
      "\n",
      "------------------- FOLD 4 -------------------\n",
      "Confusion Matrix:\n",
      " [[0 0 5]\n",
      " [0 3 3]\n",
      " [0 4 0]]\n",
      "Precision = 0.1714285714285714\n",
      "Accuracy score = 0.3422222222222222\n",
      "Recall Score = 0.2\n",
      "F1 Score = 0.1846153846153846\n",
      "\n",
      "------------------- FOLD 5 -------------------\n",
      "Confusion Matrix:\n",
      " [[0 0 8]\n",
      " [0 0 4]\n",
      " [0 2 1]]\n",
      "Precision = 0.015384615384615385\n",
      "Accuracy score = 0.39555555555555555\n",
      "Recall Score = 0.06666666666666667\n",
      "F1 Score = 0.025\n",
      "\n",
      "------------------- FOLD 6 -------------------\n",
      "Confusion Matrix:\n",
      " [[0 0 6]\n",
      " [0 2 1]\n",
      " [0 6 0]]\n",
      "Precision = 0.05\n",
      "Accuracy score = 0.36000000000000004\n",
      "Recall Score = 0.13333333333333333\n",
      "F1 Score = 0.07272727272727272\n",
      "\n",
      "------------------- FOLD 7 -------------------\n",
      "Confusion Matrix:\n",
      " [[0 0 2]\n",
      " [0 0 5]\n",
      " [0 1 7]]\n",
      "Precision = 0.26666666666666666\n",
      "Accuracy score = 0.4133333333333333\n",
      "Recall Score = 0.4666666666666667\n",
      "F1 Score = 0.3393939393939394\n",
      "\n",
      "------------------- FOLD 8 -------------------\n",
      "Confusion Matrix:\n",
      " [[0 0 5]\n",
      " [0 3 2]\n",
      " [0 5 0]]\n",
      "Precision = 0.125\n",
      "Accuracy score = 0.3333333333333333\n",
      "Recall Score = 0.2\n",
      "F1 Score = 0.15384615384615383\n",
      "\n",
      "------------------- FOLD 9 -------------------\n",
      "Confusion Matrix:\n",
      " [[0 0 5]\n",
      " [0 2 3]\n",
      " [0 5 0]]\n",
      "Precision = 0.09523809523809522\n",
      "Accuracy score = 0.3333333333333333\n",
      "Recall Score = 0.13333333333333333\n",
      "F1 Score = 0.1111111111111111\n",
      "\n",
      "------------------- FOLD 10 -------------------\n",
      "Confusion Matrix:\n",
      " [[0 0 3]\n",
      " [0 0 5]\n",
      " [0 5 2]]\n",
      "Precision = 0.09333333333333334\n",
      "Accuracy score = 0.3688888888888889\n",
      "Recall Score = 0.13333333333333333\n",
      "F1 Score = 0.10980392156862745\n",
      "\n"
     ]
    }
   ],
   "source": [
    "i = 1\n",
    "for train_idx, test_idx in kf.split(X):\n",
    "    print(f'''------------------- FOLD {i} -------------------''')\n",
    "    X_train, X_test = X[train_idx], X[test_idx]\n",
    "    Y_train, Y_test = Y[train_idx], Y[test_idx]\n",
    "    NN.fit(X_train, Y_train)\n",
    "    y_pred = NN.predict(X_test)\n",
    "    \n",
    "    conf_matrix = confusion_matrix(Y_test, y_pred)\n",
    "    print(f'Confusion Matrix:\\n {conf_matrix}')\n",
    "    print(f'Precision = {precision(Y_test, y_pred)}')\n",
    "    print(f'Accuracy score = {accuracy(Y_test, y_pred)}')\n",
    "    print(f'Recall Score = {recall(Y_test, y_pred)}')\n",
    "    print(f'F1 Score = {f1(Y_test,y_pred)}\\n')\n",
    "    i += 1  "
   ]
  }
 ],
 "metadata": {
  "interpreter": {
   "hash": "6e5aab50277b0b6f38eb5413e0409d87bdbdf5e7f7ee15cf675cae43f714ba4b"
  },
  "kernelspec": {
   "display_name": "Python 3.9.0 ('env': venv)",
   "language": "python",
   "name": "python3"
  },
  "language_info": {
   "codemirror_mode": {
    "name": "ipython",
    "version": 3
   },
   "file_extension": ".py",
   "mimetype": "text/x-python",
   "name": "python",
   "nbconvert_exporter": "python",
   "pygments_lexer": "ipython3",
   "version": "3.9.0"
  },
  "orig_nbformat": 4
 },
 "nbformat": 4,
 "nbformat_minor": 2
}
