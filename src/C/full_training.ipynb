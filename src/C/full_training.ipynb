{
 "cells": [
  {
   "cell_type": "code",
   "execution_count": 37,
   "metadata": {},
   "outputs": [],
   "source": [
    "from neural_net import NeuralNetwork\n",
    "import numpy as np\n",
    "from sklearn.datasets import load_iris\n",
    "from metrics import confusion_matrix, prediction_stats, accuracy, precision, recall, f1\n",
    "from save_load import saveModel, loadModel"
   ]
  },
  {
   "cell_type": "code",
   "execution_count": 38,
   "metadata": {},
   "outputs": [
    {
     "name": "stdout",
     "output_type": "stream",
     "text": [
      "[5.9 3.  5.1 1.8] 2\n"
     ]
    }
   ],
   "source": [
    "# Load Data\n",
    "dataset = load_iris()\n",
    "\n",
    "X = dataset.data\n",
    "Y = dataset.target"
   ]
  },
  {
   "cell_type": "code",
   "execution_count": 39,
   "metadata": {},
   "outputs": [],
   "source": [
    "# Define Neural Network\n",
    "NN = NeuralNetwork(max_iter=500, batch_size=10, error_threshold=0.01, learning_rate=0.005, random_state=42069)\n",
    "NN.add_layer(n_neuron=4)\n",
    "NN.add_layer(n_neuron=3, activation_function='relu')\n",
    "NN.add_layer(n_neuron=3, activation_function='relu')\n",
    "NN.add_layer(n_neuron=3, activation_function='sigmoid')\n",
    "NN.add_layer(n_neuron=3)"
   ]
  },
  {
   "cell_type": "code",
   "execution_count": 40,
   "metadata": {},
   "outputs": [
    {
     "name": "stdout",
     "output_type": "stream",
     "text": [
      "Model saved to model.json\n"
     ]
    }
   ],
   "source": [
    "# Fit Neural Network\n",
    "NN.fit(X, Y)\n",
    "\n",
    "saveModel(NN, \"model\")"
   ]
  },
  {
   "cell_type": "code",
   "execution_count": 41,
   "metadata": {},
   "outputs": [],
   "source": [
    "# Define new instance\n",
    "instance = np.array([[5, 3.5, 5, 2]])"
   ]
  },
  {
   "cell_type": "code",
   "execution_count": 42,
   "metadata": {},
   "outputs": [],
   "source": [
    "# Load Model from file\n",
    "model = loadModel(\"model\")"
   ]
  },
  {
   "cell_type": "code",
   "execution_count": 43,
   "metadata": {},
   "outputs": [
    {
     "name": "stdout",
     "output_type": "stream",
     "text": [
      "Hasil Prediksi: Kelas 2\n"
     ]
    }
   ],
   "source": [
    "y_pred = model.predict(instance)\n",
    "print(f\"Hasil Prediksi: Kelas {y_pred[0]}\")"
   ]
  }
 ],
 "metadata": {
  "interpreter": {
   "hash": "6e5aab50277b0b6f38eb5413e0409d87bdbdf5e7f7ee15cf675cae43f714ba4b"
  },
  "kernelspec": {
   "display_name": "Python 3.9.0 ('env': venv)",
   "language": "python",
   "name": "python3"
  },
  "language_info": {
   "codemirror_mode": {
    "name": "ipython",
    "version": 3
   },
   "file_extension": ".py",
   "mimetype": "text/x-python",
   "name": "python",
   "nbconvert_exporter": "python",
   "pygments_lexer": "ipython3",
   "version": "3.9.0"
  },
  "orig_nbformat": 4
 },
 "nbformat": 4,
 "nbformat_minor": 2
}
